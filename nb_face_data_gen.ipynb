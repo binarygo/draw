{
 "cells": [
  {
   "cell_type": "code",
   "execution_count": 128,
   "metadata": {
    "collapsed": true
   },
   "outputs": [],
   "source": [
    "%matplotlib inline\n",
    "\n",
    "import os\n",
    "import sqlite3\n",
    "import hashlib\n",
    "import random\n",
    "import pickle\n",
    "import numpy as np\n",
    "\n",
    "from PIL import Image\n",
    "from scipy.misc import imread\n",
    "from matplotlib import pyplot as plt"
   ]
  },
  {
   "cell_type": "code",
   "execution_count": 95,
   "metadata": {
    "collapsed": true
   },
   "outputs": [],
   "source": [
    "_SQL_FACE_DATA = r\"\"\"\n",
    "SELECT\n",
    "  f.file_id AS file_id,\n",
    "  fr.x as x,\n",
    "  fr.y as y,\n",
    "  fr.w as w,\n",
    "  fr.h as h\n",
    "FROM\n",
    "  facerect AS fr\n",
    "  JOIN faces AS f ON fr.face_id = f.face_id\n",
    "WHERE\n",
    "  fr.annot_type_id = 1\n",
    "\"\"\"\n",
    "\n",
    "\n",
    "def _read_face_data(aflw_sqlite_file):\n",
    "    with sqlite3.connect(aflw_sqlite_file) as conn:\n",
    "        c = conn.cursor()\n",
    "        c.execute(_SQL_FACE_DATA)\n",
    "        data = c.fetchall()\n",
    "        face_data = {}\n",
    "        for file_id, x, y, w, h in data:\n",
    "            face_data.setdefault(file_id, []).append((x, y, w, h))\n",
    "        # face_data has the format [(file_id, [(x, y, w, h), ...]), ...]\n",
    "        return face_data.items()\n",
    "\n",
    "\n",
    "def _crop_image(im, rect):\n",
    "    x, y, w, h = rect\n",
    "    return im[y:y+h, x:x+w]\n",
    "\n",
    "\n",
    "def _scale_image(im, new_w, new_h):\n",
    "    im = Image.fromarray(im).resize([new_w, new_h], Image.ANTIALIAS)\n",
    "    return np.asarray(im)\n",
    "\n",
    "def _rgb_to_gray(im):\n",
    "    return np.dot(im / 255.0, [0.299, 0.587, 0.114])\n",
    "\n",
    "def _gen_face_examples(im, face_rects, scale_to_w, scale_to_h):\n",
    "    ans = []\n",
    "    for r in face_rects:\n",
    "        ex = _scale_image(_crop_image(im, r), scale_to_w, scale_to_h)\n",
    "        if ex.shape == (scale_to_h, scale_to_w, 3):\n",
    "            ans.append(ex)\n",
    "    return ans"
   ]
  },
  {
   "cell_type": "code",
   "execution_count": 149,
   "metadata": {
    "collapsed": false
   },
   "outputs": [],
   "source": [
    "face_data = _read_face_data(\"../aflw/aflw/data/aflw.sqlite\")\n",
    "random.shuffle(face_data)\n",
    "\n",
    "im_list = []\n",
    "for i in range(len(face_data)):\n",
    "    try:\n",
    "        file_id, face_rects = face_data[i]\n",
    "        im = imread(os.path.join(\"../aflw/aflw/data/flickr\", file_id))\n",
    "        im = _scale_image(_crop_image(im, face_rects[0]), 28, 28)\n",
    "        im = _rgb_to_gray(im)\n",
    "        im_list.append(im)\n",
    "    except:\n",
    "        pass\n",
    "\n",
    "with open(\"face_data/all.pickle\", \"wb\") as f:\n",
    "    pickle.dump(im_list, f)"
   ]
  }
 ],
 "metadata": {
  "kernelspec": {
   "display_name": "Python 2",
   "language": "python",
   "name": "python2"
  },
  "language_info": {
   "codemirror_mode": {
    "name": "ipython",
    "version": 2
   },
   "file_extension": ".py",
   "mimetype": "text/x-python",
   "name": "python",
   "nbconvert_exporter": "python",
   "pygments_lexer": "ipython2",
   "version": "2.7.6"
  }
 },
 "nbformat": 4,
 "nbformat_minor": 1
}
